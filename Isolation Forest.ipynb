{
 "cells": [
  {
   "cell_type": "code",
   "execution_count": 1,
   "id": "770b6421",
   "metadata": {},
   "outputs": [],
   "source": [
    "# We reached out to the researchers of the group for code for Extended Isolation Forest with Fuzzy C-Means, as it\n",
    "# was our original project. No code was able to be provided by the researchers, so we changed the direction of our\n",
    "# project. Now we are working on the original IF and EIF because EIF was an expansion of IF. We are justifying why\n",
    "# one is better over the one (for our specific anomaly data set).\n",
    "# We found papers that talked about why EIF is better for specific data types (and vice versa for IF). We wanted to\n",
    "# contribute in our own way with comparing the two algorithms with using a credit card fraud data set.\n",
    "# ~~~~~~~~~~~~~~~~~~~~~~~~~~~~~~~~~~~~~~~~~~~~~~~~~~~~~~~~~~~~~~~~~~~~~~~~~~~~~~~~~~~~~~\n",
    "# Anomalies were detected on a spectrum between 0 and 1 (with 1 being an anomaly)\n",
    "# Isolation Forest was implemented on a credit card transaction data set to compare with Extended Isolation Forest"
   ]
  },
  {
   "cell_type": "code",
   "execution_count": 2,
   "id": "b00d33dc",
   "metadata": {},
   "outputs": [
    {
     "name": "stdout",
     "output_type": "stream",
     "text": [
      "Checking whether there is an H2O instance running at http://localhost:54321 ..... not found.\n",
      "Attempting to start a local H2O server...\n",
      "  Java Version: openjdk version \"1.8.0_302\"; OpenJDK Runtime Environment (Temurin)(build 1.8.0_302-b08); OpenJDK 64-Bit Server VM (Temurin)(build 25.302-b08, mixed mode)\n",
      "  Starting server from /Users/scotthardy/opt/anaconda3/lib/python3.9/site-packages/h2o/backend/bin/h2o.jar\n",
      "  Ice root: /var/folders/7d/_1x_hxyn3x5dbfrvz3bs7w100000gn/T/tmpy92jj94e\n",
      "  JVM stdout: /var/folders/7d/_1x_hxyn3x5dbfrvz3bs7w100000gn/T/tmpy92jj94e/h2o_scotthardy_started_from_python.out\n",
      "  JVM stderr: /var/folders/7d/_1x_hxyn3x5dbfrvz3bs7w100000gn/T/tmpy92jj94e/h2o_scotthardy_started_from_python.err\n",
      "  Server is running at http://127.0.0.1:54321\n",
      "Connecting to H2O server at http://127.0.0.1:54321 ... successful.\n"
     ]
    },
    {
     "data": {
      "text/html": [
       "\n",
       "<style>\n",
       "\n",
       "#h2o-table-1.h2o-container {\n",
       "  overflow-x: auto;\n",
       "}\n",
       "#h2o-table-1 .h2o-table {\n",
       "  /* width: 100%; */\n",
       "  margin-top: 1em;\n",
       "  margin-bottom: 1em;\n",
       "}\n",
       "#h2o-table-1 .h2o-table caption {\n",
       "  white-space: nowrap;\n",
       "  caption-side: top;\n",
       "  text-align: left;\n",
       "  /* margin-left: 1em; */\n",
       "  margin: 0;\n",
       "  font-size: larger;\n",
       "}\n",
       "#h2o-table-1 .h2o-table thead {\n",
       "  white-space: nowrap; \n",
       "  position: sticky;\n",
       "  top: 0;\n",
       "  box-shadow: 0 -1px inset;\n",
       "}\n",
       "#h2o-table-1 .h2o-table tbody {\n",
       "  overflow: auto;\n",
       "}\n",
       "#h2o-table-1 .h2o-table th,\n",
       "#h2o-table-1 .h2o-table td {\n",
       "  text-align: right;\n",
       "  /* border: 1px solid; */\n",
       "}\n",
       "#h2o-table-1 .h2o-table tr:nth-child(even) {\n",
       "  /* background: #F5F5F5 */\n",
       "}\n",
       "\n",
       "</style>      \n",
       "<div id=\"h2o-table-1\" class=\"h2o-container\">\n",
       "  <table class=\"h2o-table\">\n",
       "    <caption></caption>\n",
       "    <thead></thead>\n",
       "    <tbody><tr><td>H2O_cluster_uptime:</td>\n",
       "<td>02 secs</td></tr>\n",
       "<tr><td>H2O_cluster_timezone:</td>\n",
       "<td>America/New_York</td></tr>\n",
       "<tr><td>H2O_data_parsing_timezone:</td>\n",
       "<td>UTC</td></tr>\n",
       "<tr><td>H2O_cluster_version:</td>\n",
       "<td>3.38.0.2</td></tr>\n",
       "<tr><td>H2O_cluster_version_age:</td>\n",
       "<td>25 days </td></tr>\n",
       "<tr><td>H2O_cluster_name:</td>\n",
       "<td>H2O_from_python_scotthardy_7r9f0t</td></tr>\n",
       "<tr><td>H2O_cluster_total_nodes:</td>\n",
       "<td>1</td></tr>\n",
       "<tr><td>H2O_cluster_free_memory:</td>\n",
       "<td>1.770 Gb</td></tr>\n",
       "<tr><td>H2O_cluster_total_cores:</td>\n",
       "<td>4</td></tr>\n",
       "<tr><td>H2O_cluster_allowed_cores:</td>\n",
       "<td>4</td></tr>\n",
       "<tr><td>H2O_cluster_status:</td>\n",
       "<td>locked, healthy</td></tr>\n",
       "<tr><td>H2O_connection_url:</td>\n",
       "<td>http://127.0.0.1:54321</td></tr>\n",
       "<tr><td>H2O_connection_proxy:</td>\n",
       "<td>{\"http\": null, \"https\": null}</td></tr>\n",
       "<tr><td>H2O_internal_security:</td>\n",
       "<td>False</td></tr>\n",
       "<tr><td>Python_version:</td>\n",
       "<td>3.9.13 final</td></tr></tbody>\n",
       "  </table>\n",
       "</div>\n"
      ],
      "text/plain": [
       "--------------------------  ---------------------------------\n",
       "H2O_cluster_uptime:         02 secs\n",
       "H2O_cluster_timezone:       America/New_York\n",
       "H2O_data_parsing_timezone:  UTC\n",
       "H2O_cluster_version:        3.38.0.2\n",
       "H2O_cluster_version_age:    25 days\n",
       "H2O_cluster_name:           H2O_from_python_scotthardy_7r9f0t\n",
       "H2O_cluster_total_nodes:    1\n",
       "H2O_cluster_free_memory:    1.770 Gb\n",
       "H2O_cluster_total_cores:    4\n",
       "H2O_cluster_allowed_cores:  4\n",
       "H2O_cluster_status:         locked, healthy\n",
       "H2O_connection_url:         http://127.0.0.1:54321\n",
       "H2O_connection_proxy:       {\"http\": null, \"https\": null}\n",
       "H2O_internal_security:      False\n",
       "Python_version:             3.9.13 final\n",
       "--------------------------  ---------------------------------"
      ]
     },
     "metadata": {},
     "output_type": "display_data"
    },
    {
     "name": "stdout",
     "output_type": "stream",
     "text": [
      "Parse progress: |████████████████████████████████████████████████████████████████| (done) 100%\n",
      "isolationforest Model Build progress: |██████████████████████████████████████████| (done) 100%\n",
      "isolationforest prediction progress: |███████████████████████████████████████████| (done) 100%\n"
     ]
    }
   ],
   "source": [
    "import h2o\n",
    "from h2o.estimators import H2OIsolationForestEstimator\n",
    "h2o.init()\n",
    "\n",
    "# Import the prostate dataset\n",
    "df = h2o.import_file(\"creditcard.csv\")\n",
    "\n",
    "# Split the data giving the training dataset 75% of the data\n",
    "train,test = df.split_frame(ratios=[0.75])\n",
    "\n",
    "# Build an Isolation forest model\n",
    "model = H2OIsolationForestEstimator(sample_rate = 0.1,\n",
    "                                    max_depth = 20,\n",
    "                                    ntrees = 50)\n",
    "model.train(training_frame=train)\n",
    "\n",
    "# Calculate score\n",
    "score = model.predict(test)\n",
    "result_pred = score[\"predict\"]\n",
    "\n",
    "# Predict the leaf node assignment\n",
    "ln_pred = model.predict_leaf_node_assignment(test, \"Path\")"
   ]
  },
  {
   "cell_type": "code",
   "execution_count": 3,
   "id": "e1727e9c",
   "metadata": {},
   "outputs": [],
   "source": [
    "# Describe some basic information about the data set"
   ]
  },
  {
   "cell_type": "code",
   "execution_count": 4,
   "id": "4bd0cfaf",
   "metadata": {
    "scrolled": true
   },
   "outputs": [
    {
     "data": {
      "text/plain": [
       "['Time',\n",
       " 'V1',\n",
       " 'V2',\n",
       " 'V3',\n",
       " 'V4',\n",
       " 'V5',\n",
       " 'V6',\n",
       " 'V7',\n",
       " 'V8',\n",
       " 'V9',\n",
       " 'V10',\n",
       " 'V11',\n",
       " 'V12',\n",
       " 'V13',\n",
       " 'V14',\n",
       " 'V15',\n",
       " 'V16',\n",
       " 'V17',\n",
       " 'V18',\n",
       " 'V19',\n",
       " 'V20',\n",
       " 'V21',\n",
       " 'V22',\n",
       " 'V23',\n",
       " 'V24',\n",
       " 'V25',\n",
       " 'V26',\n",
       " 'V27',\n",
       " 'V28',\n",
       " 'Amount',\n",
       " 'Class']"
      ]
     },
     "execution_count": 4,
     "metadata": {},
     "output_type": "execute_result"
    }
   ],
   "source": [
    "# column names\n",
    "df.columns"
   ]
  },
  {
   "cell_type": "code",
   "execution_count": 5,
   "id": "a5f0db04",
   "metadata": {
    "scrolled": false
   },
   "outputs": [
    {
     "data": {
      "text/html": [
       "<table class='dataframe'>\n",
       "<thead>\n",
       "<tr><th style=\"text-align: right;\">  Time</th><th style=\"text-align: right;\">       V1</th><th style=\"text-align: right;\">        V2</th><th style=\"text-align: right;\">        V3</th><th style=\"text-align: right;\">       V4</th><th style=\"text-align: right;\">        V5</th><th style=\"text-align: right;\">        V6</th><th style=\"text-align: right;\">       V7</th><th style=\"text-align: right;\">        V8</th><th style=\"text-align: right;\">       V9</th><th style=\"text-align: right;\">       V10</th><th style=\"text-align: right;\">      V11</th><th style=\"text-align: right;\">       V12</th><th style=\"text-align: right;\">      V13</th><th style=\"text-align: right;\">       V14</th><th style=\"text-align: right;\">       V15</th><th style=\"text-align: right;\">      V16</th><th style=\"text-align: right;\">        V17</th><th style=\"text-align: right;\">       V18</th><th style=\"text-align: right;\">       V19</th><th style=\"text-align: right;\">       V20</th><th style=\"text-align: right;\">       V21</th><th style=\"text-align: right;\">       V22</th><th style=\"text-align: right;\">       V23</th><th style=\"text-align: right;\">       V24</th><th style=\"text-align: right;\">      V25</th><th style=\"text-align: right;\">       V26</th><th style=\"text-align: right;\">       V27</th><th style=\"text-align: right;\">        V28</th><th style=\"text-align: right;\">  Amount</th><th style=\"text-align: right;\">  Class</th></tr>\n",
       "</thead>\n",
       "<tbody>\n",
       "<tr><td style=\"text-align: right;\">     0</td><td style=\"text-align: right;\">-1.35981 </td><td style=\"text-align: right;\">-0.0727812</td><td style=\"text-align: right;\"> 2.53635  </td><td style=\"text-align: right;\"> 1.37816 </td><td style=\"text-align: right;\">-0.338321 </td><td style=\"text-align: right;\"> 0.462388 </td><td style=\"text-align: right;\"> 0.239599</td><td style=\"text-align: right;\"> 0.0986979</td><td style=\"text-align: right;\"> 0.363787</td><td style=\"text-align: right;\"> 0.0907942</td><td style=\"text-align: right;\">-0.5516  </td><td style=\"text-align: right;\">-0.617801 </td><td style=\"text-align: right;\">-0.99139 </td><td style=\"text-align: right;\">-0.311169 </td><td style=\"text-align: right;\"> 1.46818  </td><td style=\"text-align: right;\">-0.470401</td><td style=\"text-align: right;\"> 0.207971  </td><td style=\"text-align: right;\"> 0.0257906</td><td style=\"text-align: right;\"> 0.403993 </td><td style=\"text-align: right;\"> 0.251412 </td><td style=\"text-align: right;\">-0.0183068</td><td style=\"text-align: right;\"> 0.277838 </td><td style=\"text-align: right;\">-0.110474 </td><td style=\"text-align: right;\"> 0.0669281</td><td style=\"text-align: right;\"> 0.128539</td><td style=\"text-align: right;\">-0.189115 </td><td style=\"text-align: right;\"> 0.133558 </td><td style=\"text-align: right;\">-0.0210531 </td><td style=\"text-align: right;\">  149.62</td><td style=\"text-align: right;\">      0</td></tr>\n",
       "<tr><td style=\"text-align: right;\">     0</td><td style=\"text-align: right;\"> 1.19186 </td><td style=\"text-align: right;\"> 0.266151 </td><td style=\"text-align: right;\"> 0.16648  </td><td style=\"text-align: right;\"> 0.448154</td><td style=\"text-align: right;\"> 0.0600176</td><td style=\"text-align: right;\">-0.0823608</td><td style=\"text-align: right;\">-0.078803</td><td style=\"text-align: right;\"> 0.0851017</td><td style=\"text-align: right;\">-0.255425</td><td style=\"text-align: right;\">-0.166974 </td><td style=\"text-align: right;\"> 1.61273 </td><td style=\"text-align: right;\"> 1.06524  </td><td style=\"text-align: right;\"> 0.489095</td><td style=\"text-align: right;\">-0.143772 </td><td style=\"text-align: right;\"> 0.635558 </td><td style=\"text-align: right;\"> 0.463917</td><td style=\"text-align: right;\">-0.114805  </td><td style=\"text-align: right;\">-0.183361 </td><td style=\"text-align: right;\">-0.145783 </td><td style=\"text-align: right;\">-0.0690831</td><td style=\"text-align: right;\">-0.225775 </td><td style=\"text-align: right;\">-0.638672 </td><td style=\"text-align: right;\"> 0.101288 </td><td style=\"text-align: right;\">-0.339846 </td><td style=\"text-align: right;\"> 0.16717 </td><td style=\"text-align: right;\"> 0.125895 </td><td style=\"text-align: right;\">-0.0089831</td><td style=\"text-align: right;\"> 0.0147242 </td><td style=\"text-align: right;\">    2.69</td><td style=\"text-align: right;\">      0</td></tr>\n",
       "<tr><td style=\"text-align: right;\">     1</td><td style=\"text-align: right;\">-1.35835 </td><td style=\"text-align: right;\">-1.34016  </td><td style=\"text-align: right;\"> 1.77321  </td><td style=\"text-align: right;\"> 0.37978 </td><td style=\"text-align: right;\">-0.503198 </td><td style=\"text-align: right;\"> 1.8005   </td><td style=\"text-align: right;\"> 0.791461</td><td style=\"text-align: right;\"> 0.247676 </td><td style=\"text-align: right;\">-1.51465 </td><td style=\"text-align: right;\"> 0.207643 </td><td style=\"text-align: right;\"> 0.624501</td><td style=\"text-align: right;\"> 0.0660837</td><td style=\"text-align: right;\"> 0.717293</td><td style=\"text-align: right;\">-0.165946 </td><td style=\"text-align: right;\"> 2.34586  </td><td style=\"text-align: right;\">-2.89008 </td><td style=\"text-align: right;\"> 1.10997   </td><td style=\"text-align: right;\">-0.121359 </td><td style=\"text-align: right;\">-2.26186  </td><td style=\"text-align: right;\"> 0.52498  </td><td style=\"text-align: right;\"> 0.247998 </td><td style=\"text-align: right;\"> 0.771679 </td><td style=\"text-align: right;\"> 0.909412 </td><td style=\"text-align: right;\">-0.689281 </td><td style=\"text-align: right;\">-0.327642</td><td style=\"text-align: right;\">-0.139097 </td><td style=\"text-align: right;\">-0.0553528</td><td style=\"text-align: right;\">-0.0597518 </td><td style=\"text-align: right;\">  378.66</td><td style=\"text-align: right;\">      0</td></tr>\n",
       "<tr><td style=\"text-align: right;\">     1</td><td style=\"text-align: right;\">-0.966272</td><td style=\"text-align: right;\">-0.185226 </td><td style=\"text-align: right;\"> 1.79299  </td><td style=\"text-align: right;\">-0.863291</td><td style=\"text-align: right;\">-0.0103089</td><td style=\"text-align: right;\"> 1.2472   </td><td style=\"text-align: right;\"> 0.237609</td><td style=\"text-align: right;\"> 0.377436 </td><td style=\"text-align: right;\">-1.38702 </td><td style=\"text-align: right;\">-0.0549519</td><td style=\"text-align: right;\">-0.226487</td><td style=\"text-align: right;\"> 0.178228 </td><td style=\"text-align: right;\"> 0.507757</td><td style=\"text-align: right;\">-0.287924 </td><td style=\"text-align: right;\">-0.631418 </td><td style=\"text-align: right;\">-1.05965 </td><td style=\"text-align: right;\">-0.684093  </td><td style=\"text-align: right;\"> 1.96578  </td><td style=\"text-align: right;\">-1.23262  </td><td style=\"text-align: right;\">-0.208038 </td><td style=\"text-align: right;\">-0.1083   </td><td style=\"text-align: right;\"> 0.0052736</td><td style=\"text-align: right;\">-0.190321 </td><td style=\"text-align: right;\">-1.17558  </td><td style=\"text-align: right;\"> 0.647376</td><td style=\"text-align: right;\">-0.221929 </td><td style=\"text-align: right;\"> 0.0627228</td><td style=\"text-align: right;\"> 0.0614576 </td><td style=\"text-align: right;\">  123.5 </td><td style=\"text-align: right;\">      0</td></tr>\n",
       "<tr><td style=\"text-align: right;\">     2</td><td style=\"text-align: right;\">-1.15823 </td><td style=\"text-align: right;\"> 0.877737 </td><td style=\"text-align: right;\"> 1.54872  </td><td style=\"text-align: right;\"> 0.403034</td><td style=\"text-align: right;\">-0.407193 </td><td style=\"text-align: right;\"> 0.0959215</td><td style=\"text-align: right;\"> 0.592941</td><td style=\"text-align: right;\">-0.270533 </td><td style=\"text-align: right;\"> 0.817739</td><td style=\"text-align: right;\"> 0.753074 </td><td style=\"text-align: right;\">-0.822843</td><td style=\"text-align: right;\"> 0.538196 </td><td style=\"text-align: right;\"> 1.34585 </td><td style=\"text-align: right;\">-1.11967  </td><td style=\"text-align: right;\"> 0.175121 </td><td style=\"text-align: right;\">-0.451449</td><td style=\"text-align: right;\">-0.237033  </td><td style=\"text-align: right;\">-0.0381948</td><td style=\"text-align: right;\"> 0.803487 </td><td style=\"text-align: right;\"> 0.408542 </td><td style=\"text-align: right;\">-0.0094307</td><td style=\"text-align: right;\"> 0.798278 </td><td style=\"text-align: right;\">-0.137458 </td><td style=\"text-align: right;\"> 0.141267 </td><td style=\"text-align: right;\">-0.20601 </td><td style=\"text-align: right;\"> 0.502292 </td><td style=\"text-align: right;\"> 0.219422 </td><td style=\"text-align: right;\"> 0.215153  </td><td style=\"text-align: right;\">   69.99</td><td style=\"text-align: right;\">      0</td></tr>\n",
       "<tr><td style=\"text-align: right;\">     2</td><td style=\"text-align: right;\">-0.425966</td><td style=\"text-align: right;\"> 0.960523 </td><td style=\"text-align: right;\"> 1.14111  </td><td style=\"text-align: right;\">-0.168252</td><td style=\"text-align: right;\"> 0.420987 </td><td style=\"text-align: right;\">-0.0297276</td><td style=\"text-align: right;\"> 0.476201</td><td style=\"text-align: right;\"> 0.260314 </td><td style=\"text-align: right;\">-0.568671</td><td style=\"text-align: right;\">-0.371407 </td><td style=\"text-align: right;\"> 1.34126 </td><td style=\"text-align: right;\"> 0.359894 </td><td style=\"text-align: right;\">-0.358091</td><td style=\"text-align: right;\">-0.137134 </td><td style=\"text-align: right;\"> 0.517617 </td><td style=\"text-align: right;\"> 0.401726</td><td style=\"text-align: right;\">-0.0581328 </td><td style=\"text-align: right;\"> 0.0686531</td><td style=\"text-align: right;\">-0.0331938</td><td style=\"text-align: right;\"> 0.0849677</td><td style=\"text-align: right;\">-0.208254 </td><td style=\"text-align: right;\">-0.559825 </td><td style=\"text-align: right;\">-0.0263977</td><td style=\"text-align: right;\">-0.371427 </td><td style=\"text-align: right;\">-0.232794</td><td style=\"text-align: right;\"> 0.105915 </td><td style=\"text-align: right;\"> 0.253844 </td><td style=\"text-align: right;\"> 0.0810803 </td><td style=\"text-align: right;\">    3.67</td><td style=\"text-align: right;\">      0</td></tr>\n",
       "<tr><td style=\"text-align: right;\">     4</td><td style=\"text-align: right;\"> 1.22966 </td><td style=\"text-align: right;\"> 0.141004 </td><td style=\"text-align: right;\"> 0.0453708</td><td style=\"text-align: right;\"> 1.20261 </td><td style=\"text-align: right;\"> 0.191881 </td><td style=\"text-align: right;\"> 0.272708 </td><td style=\"text-align: right;\">-0.005159</td><td style=\"text-align: right;\"> 0.0812129</td><td style=\"text-align: right;\"> 0.46496 </td><td style=\"text-align: right;\">-0.0992543</td><td style=\"text-align: right;\">-1.41691 </td><td style=\"text-align: right;\">-0.153826 </td><td style=\"text-align: right;\">-0.751063</td><td style=\"text-align: right;\"> 0.167372 </td><td style=\"text-align: right;\"> 0.0501436</td><td style=\"text-align: right;\">-0.443587</td><td style=\"text-align: right;\"> 0.00282051</td><td style=\"text-align: right;\">-0.611987 </td><td style=\"text-align: right;\">-0.045575 </td><td style=\"text-align: right;\">-0.219633 </td><td style=\"text-align: right;\">-0.167716 </td><td style=\"text-align: right;\">-0.27071  </td><td style=\"text-align: right;\">-0.154104 </td><td style=\"text-align: right;\">-0.780055 </td><td style=\"text-align: right;\"> 0.750137</td><td style=\"text-align: right;\">-0.257237 </td><td style=\"text-align: right;\"> 0.0345074</td><td style=\"text-align: right;\"> 0.00516777</td><td style=\"text-align: right;\">    4.99</td><td style=\"text-align: right;\">      0</td></tr>\n",
       "<tr><td style=\"text-align: right;\">     7</td><td style=\"text-align: right;\">-0.644269</td><td style=\"text-align: right;\"> 1.41796  </td><td style=\"text-align: right;\"> 1.07438  </td><td style=\"text-align: right;\">-0.492199</td><td style=\"text-align: right;\"> 0.948934 </td><td style=\"text-align: right;\"> 0.428118 </td><td style=\"text-align: right;\"> 1.12063 </td><td style=\"text-align: right;\">-3.80786  </td><td style=\"text-align: right;\"> 0.615375</td><td style=\"text-align: right;\"> 1.24938  </td><td style=\"text-align: right;\">-0.619468</td><td style=\"text-align: right;\"> 0.291474 </td><td style=\"text-align: right;\"> 1.75796 </td><td style=\"text-align: right;\">-1.32387  </td><td style=\"text-align: right;\"> 0.686133 </td><td style=\"text-align: right;\">-0.076127</td><td style=\"text-align: right;\">-1.22213   </td><td style=\"text-align: right;\">-0.358222 </td><td style=\"text-align: right;\"> 0.324505 </td><td style=\"text-align: right;\">-0.156742 </td><td style=\"text-align: right;\"> 1.94347  </td><td style=\"text-align: right;\">-1.01545  </td><td style=\"text-align: right;\"> 0.0575035</td><td style=\"text-align: right;\">-0.649709 </td><td style=\"text-align: right;\">-0.415267</td><td style=\"text-align: right;\">-0.0516343</td><td style=\"text-align: right;\">-1.20692  </td><td style=\"text-align: right;\">-1.08534   </td><td style=\"text-align: right;\">   40.8 </td><td style=\"text-align: right;\">      0</td></tr>\n",
       "<tr><td style=\"text-align: right;\">     7</td><td style=\"text-align: right;\">-0.894286</td><td style=\"text-align: right;\"> 0.286157 </td><td style=\"text-align: right;\">-0.113192 </td><td style=\"text-align: right;\">-0.271526</td><td style=\"text-align: right;\"> 2.6696   </td><td style=\"text-align: right;\"> 3.72182  </td><td style=\"text-align: right;\"> 0.370145</td><td style=\"text-align: right;\"> 0.851084 </td><td style=\"text-align: right;\">-0.392048</td><td style=\"text-align: right;\">-0.41043  </td><td style=\"text-align: right;\">-0.705117</td><td style=\"text-align: right;\">-0.110452 </td><td style=\"text-align: right;\">-0.286254</td><td style=\"text-align: right;\"> 0.0743554</td><td style=\"text-align: right;\">-0.328783 </td><td style=\"text-align: right;\">-0.210077</td><td style=\"text-align: right;\">-0.499768  </td><td style=\"text-align: right;\"> 0.118765 </td><td style=\"text-align: right;\"> 0.570328 </td><td style=\"text-align: right;\"> 0.0527357</td><td style=\"text-align: right;\">-0.0734251</td><td style=\"text-align: right;\">-0.268092 </td><td style=\"text-align: right;\">-0.204233 </td><td style=\"text-align: right;\"> 1.01159  </td><td style=\"text-align: right;\"> 0.373205</td><td style=\"text-align: right;\">-0.384157 </td><td style=\"text-align: right;\"> 0.0117474</td><td style=\"text-align: right;\"> 0.142404  </td><td style=\"text-align: right;\">   93.2 </td><td style=\"text-align: right;\">      0</td></tr>\n",
       "<tr><td style=\"text-align: right;\">     9</td><td style=\"text-align: right;\">-0.338262</td><td style=\"text-align: right;\"> 1.11959  </td><td style=\"text-align: right;\"> 1.04437  </td><td style=\"text-align: right;\">-0.222187</td><td style=\"text-align: right;\"> 0.499361 </td><td style=\"text-align: right;\">-0.246761 </td><td style=\"text-align: right;\"> 0.651583</td><td style=\"text-align: right;\"> 0.0695386</td><td style=\"text-align: right;\">-0.736727</td><td style=\"text-align: right;\">-0.366846 </td><td style=\"text-align: right;\"> 1.01761 </td><td style=\"text-align: right;\"> 0.83639  </td><td style=\"text-align: right;\"> 1.00684 </td><td style=\"text-align: right;\">-0.443523 </td><td style=\"text-align: right;\"> 0.150219 </td><td style=\"text-align: right;\"> 0.739453</td><td style=\"text-align: right;\">-0.54098   </td><td style=\"text-align: right;\"> 0.476677 </td><td style=\"text-align: right;\"> 0.451773 </td><td style=\"text-align: right;\"> 0.203711 </td><td style=\"text-align: right;\">-0.246914 </td><td style=\"text-align: right;\">-0.633753 </td><td style=\"text-align: right;\">-0.120794 </td><td style=\"text-align: right;\">-0.38505  </td><td style=\"text-align: right;\">-0.069733</td><td style=\"text-align: right;\"> 0.0941988</td><td style=\"text-align: right;\"> 0.246219 </td><td style=\"text-align: right;\"> 0.0830756 </td><td style=\"text-align: right;\">    3.68</td><td style=\"text-align: right;\">      0</td></tr>\n",
       "</tbody>\n",
       "</table><pre style='font-size: smaller; margin-bottom: 1em;'>[10 rows x 31 columns]</pre>"
      ],
      "text/plain": [
       "  Time         V1          V2          V3         V4          V5          V6         V7          V8         V9         V10        V11         V12        V13         V14         V15        V16          V17         V18         V19         V20         V21         V22         V23         V24        V25         V26         V27          V28    Amount    Class\n",
       "------  ---------  ----------  ----------  ---------  ----------  ----------  ---------  ----------  ---------  ----------  ---------  ----------  ---------  ----------  ----------  ---------  -----------  ----------  ----------  ----------  ----------  ----------  ----------  ----------  ---------  ----------  ----------  -----------  --------  -------\n",
       "     0  -1.35981   -0.0727812   2.53635     1.37816   -0.338321    0.462388    0.239599   0.0986979   0.363787   0.0907942  -0.5516    -0.617801   -0.99139   -0.311169    1.46818    -0.470401   0.207971     0.0257906   0.403993    0.251412   -0.0183068   0.277838   -0.110474    0.0669281   0.128539  -0.189115    0.133558   -0.0210531     149.62        0\n",
       "     0   1.19186    0.266151    0.16648     0.448154   0.0600176  -0.0823608  -0.078803   0.0851017  -0.255425  -0.166974    1.61273    1.06524     0.489095  -0.143772    0.635558    0.463917  -0.114805    -0.183361   -0.145783   -0.0690831  -0.225775   -0.638672    0.101288   -0.339846    0.16717    0.125895   -0.0089831   0.0147242       2.69        0\n",
       "     1  -1.35835   -1.34016     1.77321     0.37978   -0.503198    1.8005      0.791461   0.247676   -1.51465    0.207643    0.624501   0.0660837   0.717293  -0.165946    2.34586    -2.89008    1.10997     -0.121359   -2.26186     0.52498     0.247998    0.771679    0.909412   -0.689281   -0.327642  -0.139097   -0.0553528  -0.0597518     378.66        0\n",
       "     1  -0.966272  -0.185226    1.79299    -0.863291  -0.0103089   1.2472      0.237609   0.377436   -1.38702   -0.0549519  -0.226487   0.178228    0.507757  -0.287924   -0.631418   -1.05965   -0.684093     1.96578    -1.23262    -0.208038   -0.1083      0.0052736  -0.190321   -1.17558     0.647376  -0.221929    0.0627228   0.0614576     123.5         0\n",
       "     2  -1.15823    0.877737    1.54872     0.403034  -0.407193    0.0959215   0.592941  -0.270533    0.817739   0.753074   -0.822843   0.538196    1.34585   -1.11967     0.175121   -0.451449  -0.237033    -0.0381948   0.803487    0.408542   -0.0094307   0.798278   -0.137458    0.141267   -0.20601    0.502292    0.219422    0.215153       69.99        0\n",
       "     2  -0.425966   0.960523    1.14111    -0.168252   0.420987   -0.0297276   0.476201   0.260314   -0.568671  -0.371407    1.34126    0.359894   -0.358091  -0.137134    0.517617    0.401726  -0.0581328    0.0686531  -0.0331938   0.0849677  -0.208254   -0.559825   -0.0263977  -0.371427   -0.232794   0.105915    0.253844    0.0810803       3.67        0\n",
       "     4   1.22966    0.141004    0.0453708   1.20261    0.191881    0.272708   -0.005159   0.0812129   0.46496   -0.0992543  -1.41691   -0.153826   -0.751063   0.167372    0.0501436  -0.443587   0.00282051  -0.611987   -0.045575   -0.219633   -0.167716   -0.27071    -0.154104   -0.780055    0.750137  -0.257237    0.0345074   0.00516777      4.99        0\n",
       "     7  -0.644269   1.41796     1.07438    -0.492199   0.948934    0.428118    1.12063   -3.80786     0.615375   1.24938    -0.619468   0.291474    1.75796   -1.32387     0.686133   -0.076127  -1.22213     -0.358222    0.324505   -0.156742    1.94347    -1.01545     0.0575035  -0.649709   -0.415267  -0.0516343  -1.20692    -1.08534        40.8         0\n",
       "     7  -0.894286   0.286157   -0.113192   -0.271526   2.6696      3.72182     0.370145   0.851084   -0.392048  -0.41043    -0.705117  -0.110452   -0.286254   0.0743554  -0.328783   -0.210077  -0.499768     0.118765    0.570328    0.0527357  -0.0734251  -0.268092   -0.204233    1.01159     0.373205  -0.384157    0.0117474   0.142404       93.2         0\n",
       "     9  -0.338262   1.11959     1.04437    -0.222187   0.499361   -0.246761    0.651583   0.0695386  -0.736727  -0.366846    1.01761    0.83639     1.00684   -0.443523    0.150219    0.739453  -0.54098      0.476677    0.451773    0.203711   -0.246914   -0.633753   -0.120794   -0.38505    -0.069733   0.0941988   0.246219    0.0830756       3.68        0\n",
       "[10 rows x 31 columns]\n"
      ]
     },
     "execution_count": 5,
     "metadata": {},
     "output_type": "execute_result"
    }
   ],
   "source": [
    "# list out the first ten rows to get a general idea of what we are working with\n",
    "df.head()"
   ]
  },
  {
   "cell_type": "code",
   "execution_count": 6,
   "id": "75832a0a",
   "metadata": {},
   "outputs": [
    {
     "data": {
      "text/html": [
       "<pre style='margin: 1em 0 1em 0;'>Rows:284807\n",
       "Cols:31\n",
       "</pre>"
      ],
      "text/plain": [
       "Rows:284807\n",
       "Cols:31\n"
      ]
     },
     "metadata": {},
     "output_type": "display_data"
    },
    {
     "data": {
      "text/html": [
       "<table class='dataframe'>\n",
       "<thead>\n",
       "<tr><th>       </th><th>Time             </th><th>V1                   </th><th>V2                   </th><th>V3                     </th><th>V4                   </th><th>V5                    </th><th>V6                    </th><th>V7                    </th><th>V8                    </th><th>V9                    </th><th>V10                   </th><th>V11                  </th><th>V12                   </th><th>V13                 </th><th>V14                   </th><th>V15                  </th><th>V16                   </th><th>V17                    </th><th>V18                   </th><th>V19                 </th><th>V20                  </th><th>V21                   </th><th>V22                   </th><th>V23                   </th><th>V24                  </th><th>V25                 </th><th>V26                  </th><th>V27                   </th><th>V28                    </th><th>Amount            </th><th>Class               </th></tr>\n",
       "</thead>\n",
       "<tbody>\n",
       "<tr><td>type   </td><td>int              </td><td>real                 </td><td>real                 </td><td>real                   </td><td>real                 </td><td>real                  </td><td>real                  </td><td>real                  </td><td>real                  </td><td>real                  </td><td>real                  </td><td>real                 </td><td>real                  </td><td>real                </td><td>real                  </td><td>real                 </td><td>real                  </td><td>real                   </td><td>real                  </td><td>real                </td><td>real                 </td><td>real                  </td><td>real                  </td><td>real                  </td><td>real                 </td><td>real                </td><td>real                 </td><td>real                  </td><td>real                   </td><td>real              </td><td>int                 </td></tr>\n",
       "<tr><td>mins   </td><td>0.0              </td><td>-56.407509631329     </td><td>-72.7157275629303    </td><td>-48.3255893623954      </td><td>-5.68317119816995    </td><td>-113.743306711146     </td><td>-26.1605059358433     </td><td>-43.5572415712451     </td><td>-73.2167184552674     </td><td>-13.4340663182301     </td><td>-24.5882624372475     </td><td>-4.79747346479757    </td><td>-18.6837146333443     </td><td>-5.79188120632084   </td><td>-19.2143254902614     </td><td>-4.49894467676621    </td><td>-14.1298545174931     </td><td>-25.1627993693248      </td><td>-9.49874592104677     </td><td>-7.21352743017759   </td><td>-54.497720494566     </td><td>-34.8303821448146     </td><td>-10.933143697655      </td><td>-44.8077352037913     </td><td>-2.83662691870341    </td><td>-10.2953970749851   </td><td>-2.60455055280817    </td><td>-22.5656793207827     </td><td>-15.4300839055349      </td><td>0.0               </td><td>0.0                 </td></tr>\n",
       "<tr><td>mean   </td><td>94813.85957508099</td><td>1.328442755752275e-15</td><td>4.087516171545461e-16</td><td>-1.5839125164738662e-15</td><td>2.209813430241765e-15</td><td>1.0729729950306835e-15</td><td>1.3156692677161953e-15</td><td>-4.981660334071031e-16</td><td>2.2992278464943217e-16</td><td>-2.203426686223725e-15</td><td>2.1108188979621483e-15</td><td>2.082078549880969e-15</td><td>-1.558365540401707e-15</td><td>7.05735213993396e-16</td><td>1.6350064686181845e-15</td><td>4.866698941746315e-15</td><td>1.3747466498830633e-15</td><td>-2.2992278464943217e-16</td><td>1.1304536911930417e-15</td><td>9.99525438823226e-16</td><td>6.195141697498589e-16</td><td>1.9479569255021338e-16</td><td>-2.554697607215913e-16</td><td>3.0975708487492947e-16</td><td>4.489881044681968e-15</td><td>6.76994865912217e-16</td><td>1.705260652816622e-15</td><td>-3.641442019035495e-16</td><td>-1.2314440809782957e-16</td><td>88.34961925093138 </td><td>0.001727485630620034</td></tr>\n",
       "<tr><td>maxs   </td><td>172792.0         </td><td>2.45492999121121     </td><td>22.0577289904909     </td><td>9.38255843282114       </td><td>16.8753440335975     </td><td>34.8016658766686      </td><td>73.3016255459646      </td><td>120.589493945238      </td><td>20.0072083651213      </td><td>15.5949946071278      </td><td>23.7451361206545      </td><td>12.0189131816199     </td><td>7.8483920756446       </td><td>7.12688295859376    </td><td>10.5267660517847      </td><td>8.87774159774277     </td><td>17.3151115176278      </td><td>9.25352625047285       </td><td>5.04106918541184      </td><td>5.59197142733558    </td><td>39.4209042482199     </td><td>27.2028391573154      </td><td>10.5030900899454      </td><td>22.5284116897749      </td><td>4.58454913689817     </td><td>7.51958867870916    </td><td>3.5173456116238      </td><td>31.6121981061363      </td><td>33.8478078188831       </td><td>25691.16          </td><td>1.0                 </td></tr>\n",
       "<tr><td>sigma  </td><td>47488.14595456652</td><td>1.9586958038574862   </td><td>1.6513085794769973   </td><td>1.5162550051777715     </td><td>1.4158685749409203   </td><td>1.3802467340314382    </td><td>1.3322710897575754    </td><td>1.237093598182667     </td><td>1.194352902669203     </td><td>1.0986320892243189    </td><td>1.0888497654025167    </td><td>1.0207130277115588   </td><td>0.9992013895301447    </td><td>0.9952742301251528  </td><td>0.9585956112570638    </td><td>0.9153160116104389   </td><td>0.87625288738837      </td><td>0.8493370636743898     </td><td>0.838176209528841     </td><td>0.8140405007685778  </td><td>0.7709250248871169   </td><td>0.7345240143713138    </td><td>0.7257015604409117    </td><td>0.6244602955949904    </td><td>0.6056470678271598   </td><td>0.5212780705409428  </td><td>0.48222701326105744  </td><td>0.4036324949650303    </td><td>0.3300832641602511     </td><td>250.12010924018873</td><td>0.041527189635465055</td></tr>\n",
       "<tr><td>zeros  </td><td>2                </td><td>0                    </td><td>0                    </td><td>0                      </td><td>0                    </td><td>0                     </td><td>0                     </td><td>0                     </td><td>0                     </td><td>0                     </td><td>0                     </td><td>0                    </td><td>0                     </td><td>0                   </td><td>0                     </td><td>0                    </td><td>0                     </td><td>0                      </td><td>0                     </td><td>0                   </td><td>0                    </td><td>0                     </td><td>0                     </td><td>0                     </td><td>0                    </td><td>0                   </td><td>0                    </td><td>0                     </td><td>0                      </td><td>1825              </td><td>284315              </td></tr>\n",
       "<tr><td>missing</td><td>0                </td><td>0                    </td><td>0                    </td><td>0                      </td><td>0                    </td><td>0                     </td><td>0                     </td><td>0                     </td><td>0                     </td><td>0                     </td><td>0                     </td><td>0                    </td><td>0                     </td><td>0                   </td><td>0                     </td><td>0                    </td><td>0                     </td><td>0                      </td><td>0                     </td><td>0                   </td><td>0                    </td><td>0                     </td><td>0                     </td><td>0                     </td><td>0                    </td><td>0                   </td><td>0                    </td><td>0                     </td><td>0                      </td><td>0                 </td><td>0                   </td></tr>\n",
       "<tr><td>0      </td><td>0.0              </td><td>-1.3598071336738     </td><td>-0.0727811733098497  </td><td>2.53634673796914       </td><td>1.37815522427443     </td><td>-0.338320769942518    </td><td>0.462387777762292     </td><td>0.239598554061257     </td><td>0.0986979012610507    </td><td>0.363786969611213     </td><td>0.0907941719789316    </td><td>-0.551599533260813   </td><td>-0.617800855762348    </td><td>-0.991389847235408  </td><td>-0.311169353699879    </td><td>1.46817697209427     </td><td>-0.470400525259478    </td><td>0.207971241929242      </td><td>0.0257905801985591    </td><td>0.403992960255733   </td><td>0.251412098239705    </td><td>-0.018306777944153    </td><td>0.277837575558899     </td><td>-0.110473910188767    </td><td>0.0669280749146731   </td><td>0.128539358273528   </td><td>-0.189114843888824   </td><td>0.133558376740387     </td><td>-0.0210530534538215    </td><td>149.62            </td><td>0.0                 </td></tr>\n",
       "<tr><td>1      </td><td>0.0              </td><td>1.19185711131486     </td><td>0.26615071205963     </td><td>0.16648011335321       </td><td>0.448154078460911    </td><td>0.0600176492822243    </td><td>-0.0823608088155687   </td><td>-0.0788029833323113   </td><td>0.0851016549148104    </td><td>-0.255425128109186    </td><td>-0.166974414004614    </td><td>1.61272666105479     </td><td>1.06523531137287      </td><td>0.48909501589608    </td><td>-0.143772296441519    </td><td>0.635558093258208    </td><td>0.463917041022171     </td><td>-0.114804663102346     </td><td>-0.183361270123994    </td><td>-0.145783041325259  </td><td>-0.0690831352230203  </td><td>-0.225775248033138    </td><td>-0.638671952771851    </td><td>0.101288021253234     </td><td>-0.339846475529127   </td><td>0.167170404418143   </td><td>0.125894532368176    </td><td>-0.00898309914322813  </td><td>0.0147241691924927     </td><td>2.69              </td><td>0.0                 </td></tr>\n",
       "<tr><td>2      </td><td>1.0              </td><td>-1.35835406159823    </td><td>-1.34016307473609    </td><td>1.77320934263119       </td><td>0.379779593034328    </td><td>-0.503198133318193    </td><td>1.80049938079263      </td><td>0.791460956450422     </td><td>0.247675786588991     </td><td>-1.51465432260583     </td><td>0.207642865216696     </td><td>0.624501459424895    </td><td>0.066083685268831     </td><td>0.717292731410831   </td><td>-0.165945922763554    </td><td>2.34586494901581     </td><td>-2.89008319444231     </td><td>1.10996937869599       </td><td>-0.121359313195888    </td><td>-2.26185709530414   </td><td>0.524979725224404    </td><td>0.247998153469754     </td><td>0.771679401917229     </td><td>0.909412262347719     </td><td>-0.689280956490685   </td><td>-0.327641833735251  </td><td>-0.139096571514147   </td><td>-0.0553527940384261   </td><td>-0.0597518405929204    </td><td>378.66            </td><td>0.0                 </td></tr>\n",
       "<tr><td>3      </td><td>1.0              </td><td>-0.966271711572087   </td><td>-0.185226008082898   </td><td>1.79299333957872       </td><td>-0.863291275036453   </td><td>-0.0103088796030823   </td><td>1.24720316752486      </td><td>0.23760893977178      </td><td>0.377435874652262     </td><td>-1.38702406270197     </td><td>-0.0549519224713749   </td><td>-0.226487263835401   </td><td>0.178228225877303     </td><td>0.507756869957169   </td><td>-0.28792374549456     </td><td>-0.631418117709045   </td><td>-1.0596472454325      </td><td>-0.684092786345479     </td><td>1.96577500349538      </td><td>-1.2326219700892    </td><td>-0.208037781160366   </td><td>-0.108300452035545    </td><td>0.00527359678253453   </td><td>-0.190320518742841    </td><td>-1.17557533186321    </td><td>0.647376034602038   </td><td>-0.221928844458407   </td><td>0.0627228487293033    </td><td>0.0614576285006353     </td><td>123.5             </td><td>0.0                 </td></tr>\n",
       "<tr><td>4      </td><td>2.0              </td><td>-1.15823309349523    </td><td>0.877736754848451    </td><td>1.548717846511         </td><td>0.403033933955121    </td><td>-0.407193377311653    </td><td>0.0959214624684256    </td><td>0.592940745385545     </td><td>-0.270532677192282    </td><td>0.817739308235294     </td><td>0.753074431976354     </td><td>-0.822842877946363   </td><td>0.53819555014995      </td><td>1.3458515932154     </td><td>-1.11966983471731     </td><td>0.175121130008994    </td><td>-0.451449182813529    </td><td>-0.237033239362776     </td><td>-0.0381947870352842   </td><td>0.803486924960175   </td><td>0.408542360392758    </td><td>-0.00943069713232919  </td><td>0.79827849458971      </td><td>-0.137458079619063    </td><td>0.141266983824769    </td><td>-0.206009587619756  </td><td>0.502292224181569    </td><td>0.219422229513348     </td><td>0.215153147499206      </td><td>69.99             </td><td>0.0                 </td></tr>\n",
       "<tr><td>5      </td><td>2.0              </td><td>-0.425965884412454   </td><td>0.960523044882985    </td><td>1.14110934232219       </td><td>-0.168252079760302   </td><td>0.42098688077219      </td><td>-0.0297275516639742   </td><td>0.476200948720027     </td><td>0.260314333074874     </td><td>-0.56867137571251     </td><td>-0.371407196834471    </td><td>1.34126198001957     </td><td>0.359893837038039     </td><td>-0.358090652573631  </td><td>-0.137133700217612    </td><td>0.517616806555742    </td><td>0.401725895589603     </td><td>-0.0581328233640131    </td><td>0.0686531494425432    </td><td>-0.0331937877876282 </td><td>0.0849676720682049   </td><td>-0.208253514656728    </td><td>-0.559824796253248    </td><td>-0.0263976679795373   </td><td>-0.371426583174346   </td><td>-0.232793816737034  </td><td>0.105914779097957    </td><td>0.253844224739337     </td><td>0.0810802569229443     </td><td>3.67              </td><td>0.0                 </td></tr>\n",
       "<tr><td>6      </td><td>4.0              </td><td>1.22965763450793     </td><td>0.141003507049326    </td><td>0.0453707735899449     </td><td>1.20261273673594     </td><td>0.191880988597645     </td><td>0.272708122899098     </td><td>-0.00515900288250983  </td><td>0.0812129398830894    </td><td>0.464959994783886     </td><td>-0.0992543211289237   </td><td>-1.41690724314928    </td><td>-0.153825826253651    </td><td>-0.75106271556262   </td><td>0.16737196252175      </td><td>0.0501435942254188   </td><td>-0.443586797916727    </td><td>0.00282051247234708    </td><td>-0.61198733994012     </td><td>-0.0455750446637976 </td><td>-0.21963255278686    </td><td>-0.167716265815783    </td><td>-0.270709726172363    </td><td>-0.154103786809305    </td><td>-0.780055415004671   </td><td>0.75013693580659    </td><td>-0.257236845917139   </td><td>0.0345074297438413    </td><td>0.00516776890624916    </td><td>4.99              </td><td>0.0                 </td></tr>\n",
       "<tr><td>7      </td><td>7.0              </td><td>-0.644269442348146   </td><td>1.41796354547385     </td><td>1.0743803763556        </td><td>-0.492199018495015   </td><td>0.948934094764157     </td><td>0.428118462833089     </td><td>1.12063135838353      </td><td>-3.80786423873589     </td><td>0.615374730667027     </td><td>1.24937617815176      </td><td>-0.619467796121913   </td><td>0.291474353088705     </td><td>1.75796421396042    </td><td>-1.32386521970526     </td><td>0.686132504394383    </td><td>-0.0761269994382006   </td><td>-1.2221273453247       </td><td>-0.358221569869078    </td><td>0.324504731321494   </td><td>-0.156741852488285   </td><td>1.94346533978412      </td><td>-1.01545470979971     </td><td>0.057503529867291     </td><td>-0.649709005559993   </td><td>-0.415266566234811  </td><td>-0.0516342969262494  </td><td>-1.20692108094258     </td><td>-1.08533918832377      </td><td>40.8              </td><td>0.0                 </td></tr>\n",
       "<tr><td>8      </td><td>7.0              </td><td>-0.89428608220282    </td><td>0.286157196276544    </td><td>-0.113192212729871     </td><td>-0.271526130088604   </td><td>2.6695986595986       </td><td>3.72181806112751      </td><td>0.370145127676916     </td><td>0.851084443200905     </td><td>-0.392047586798604    </td><td>-0.410430432848439    </td><td>-0.705116586646536   </td><td>-0.110452261733098    </td><td>-0.286253632470583  </td><td>0.0743553603016731    </td><td>-0.328783050303565   </td><td>-0.210077268148783    </td><td>-0.499767968800267     </td><td>0.118764861004217     </td><td>0.57032816746536    </td><td>0.0527356691149697   </td><td>-0.0734251001059225   </td><td>-0.268091632235551    </td><td>-0.204232669947878    </td><td>1.0115918018785      </td><td>0.373204680146282   </td><td>-0.384157307702294   </td><td>0.0117473564581996    </td><td>0.14240432992147       </td><td>93.2              </td><td>0.0                 </td></tr>\n",
       "<tr><td>9      </td><td>9.0              </td><td>-0.33826175242575    </td><td>1.11959337641566     </td><td>1.04436655157316       </td><td>-0.222187276738296   </td><td>0.49936080649727      </td><td>-0.24676110061991     </td><td>0.651583206489972     </td><td>0.0695385865186387    </td><td>-0.736727316364109    </td><td>-0.366845639206541    </td><td>1.01761446783262     </td><td>0.836389570307029     </td><td>1.00684351373408    </td><td>-0.443522816876142    </td><td>0.150219101422635    </td><td>0.739452777052119     </td><td>-0.540979921943059     </td><td>0.47667726004282      </td><td>0.451772964394125   </td><td>0.203711454727929    </td><td>-0.246913936910008    </td><td>-0.633752642406113    </td><td>-0.12079408408185     </td><td>-0.385049925313426   </td><td>-0.0697330460416923 </td><td>0.0941988339514961   </td><td>0.246219304619926     </td><td>0.0830756493473326     </td><td>3.68              </td><td>0.0                 </td></tr>\n",
       "</tbody>\n",
       "</table><pre style='font-size: smaller; margin-bottom: 1em;'>[284807 rows x 31 columns]</pre>"
      ],
      "text/plain": [
       "         Time               V1                     V2                     V3                       V4                     V5                      V6                      V7                      V8                      V9                      V10                     V11                    V12                     V13                   V14                     V15                    V16                     V17                      V18                     V19                   V20                    V21                     V22                     V23                     V24                    V25                   V26                    V27                     V28                      Amount              Class\n",
       "-------  -----------------  ---------------------  ---------------------  -----------------------  ---------------------  ----------------------  ----------------------  ----------------------  ----------------------  ----------------------  ----------------------  ---------------------  ----------------------  --------------------  ----------------------  ---------------------  ----------------------  -----------------------  ----------------------  --------------------  ---------------------  ----------------------  ----------------------  ----------------------  ---------------------  --------------------  ---------------------  ----------------------  -----------------------  ------------------  --------------------\n",
       "type     int                real                   real                   real                     real                   real                    real                    real                    real                    real                    real                    real                   real                    real                  real                    real                   real                    real                     real                    real                  real                   real                    real                    real                    real                   real                  real                   real                    real                     real                int\n",
       "mins     0.0                -56.407509631329       -72.7157275629303      -48.3255893623954        -5.68317119816995      -113.743306711146       -26.1605059358433       -43.5572415712451       -73.2167184552674       -13.4340663182301       -24.5882624372475       -4.79747346479757      -18.6837146333443       -5.79188120632084     -19.2143254902614       -4.49894467676621      -14.1298545174931       -25.1627993693248        -9.49874592104677       -7.21352743017759     -54.497720494566       -34.8303821448146       -10.933143697655        -44.8077352037913       -2.83662691870341      -10.2953970749851     -2.60455055280817      -22.5656793207827       -15.4300839055349        0.0                 0.0\n",
       "mean     94813.85957508099  1.328442755752275e-15  4.087516171545461e-16  -1.5839125164738662e-15  2.209813430241765e-15  1.0729729950306835e-15  1.3156692677161953e-15  -4.981660334071031e-16  2.2992278464943217e-16  -2.203426686223725e-15  2.1108188979621483e-15  2.082078549880969e-15  -1.558365540401707e-15  7.05735213993396e-16  1.6350064686181845e-15  4.866698941746315e-15  1.3747466498830633e-15  -2.2992278464943217e-16  1.1304536911930417e-15  9.99525438823226e-16  6.195141697498589e-16  1.9479569255021338e-16  -2.554697607215913e-16  3.0975708487492947e-16  4.489881044681968e-15  6.76994865912217e-16  1.705260652816622e-15  -3.641442019035495e-16  -1.2314440809782957e-16  88.34961925093138   0.001727485630620034\n",
       "maxs     172792.0           2.45492999121121       22.0577289904909       9.38255843282114         16.8753440335975       34.8016658766686        73.3016255459646        120.589493945238        20.0072083651213        15.5949946071278        23.7451361206545        12.0189131816199       7.8483920756446         7.12688295859376      10.5267660517847        8.87774159774277       17.3151115176278        9.25352625047285         5.04106918541184        5.59197142733558      39.4209042482199       27.2028391573154        10.5030900899454        22.5284116897749        4.58454913689817       7.51958867870916      3.5173456116238        31.6121981061363        33.8478078188831         25691.16            1.0\n",
       "sigma    47488.14595456652  1.9586958038574862     1.6513085794769973     1.5162550051777715       1.4158685749409203     1.3802467340314382      1.3322710897575754      1.237093598182667       1.194352902669203       1.0986320892243189      1.0888497654025167      1.0207130277115588     0.9992013895301447      0.9952742301251528    0.9585956112570638      0.9153160116104389     0.87625288738837        0.8493370636743898       0.838176209528841       0.8140405007685778    0.7709250248871169     0.7345240143713138      0.7257015604409117      0.6244602955949904      0.6056470678271598     0.5212780705409428    0.48222701326105744    0.4036324949650303      0.3300832641602511       250.12010924018873  0.041527189635465055\n",
       "zeros    2                  0                      0                      0                        0                      0                       0                       0                       0                       0                       0                       0                      0                       0                     0                       0                      0                       0                        0                       0                     0                      0                       0                       0                       0                      0                     0                      0                       0                        1825                284315\n",
       "missing  0                  0                      0                      0                        0                      0                       0                       0                       0                       0                       0                       0                      0                       0                     0                       0                      0                       0                        0                       0                     0                      0                       0                       0                       0                      0                     0                      0                       0                        0                   0\n",
       "0        0.0                -1.3598071336738       -0.0727811733098497    2.53634673796914         1.37815522427443       -0.338320769942518      0.462387777762292       0.239598554061257       0.0986979012610507      0.363786969611213       0.0907941719789316      -0.551599533260813     -0.617800855762348      -0.991389847235408    -0.311169353699879      1.46817697209427       -0.470400525259478      0.207971241929242        0.0257905801985591      0.403992960255733     0.251412098239705      -0.018306777944153      0.277837575558899       -0.110473910188767      0.0669280749146731     0.128539358273528     -0.189114843888824     0.133558376740387       -0.0210530534538215      149.62              0.0\n",
       "1        0.0                1.19185711131486       0.26615071205963       0.16648011335321         0.448154078460911      0.0600176492822243      -0.0823608088155687     -0.0788029833323113     0.0851016549148104      -0.255425128109186      -0.166974414004614      1.61272666105479       1.06523531137287        0.48909501589608      -0.143772296441519      0.635558093258208      0.463917041022171       -0.114804663102346       -0.183361270123994      -0.145783041325259    -0.0690831352230203    -0.225775248033138      -0.638671952771851      0.101288021253234       -0.339846475529127     0.167170404418143     0.125894532368176      -0.00898309914322813    0.0147241691924927       2.69                0.0\n",
       "2        1.0                -1.35835406159823      -1.34016307473609      1.77320934263119         0.379779593034328      -0.503198133318193      1.80049938079263        0.791460956450422       0.247675786588991       -1.51465432260583       0.207642865216696       0.624501459424895      0.066083685268831       0.717292731410831     -0.165945922763554      2.34586494901581       -2.89008319444231       1.10996937869599         -0.121359313195888      -2.26185709530414     0.524979725224404      0.247998153469754       0.771679401917229       0.909412262347719       -0.689280956490685     -0.327641833735251    -0.139096571514147     -0.0553527940384261     -0.0597518405929204      378.66              0.0\n",
       "3        1.0                -0.966271711572087     -0.185226008082898     1.79299333957872         -0.863291275036453     -0.0103088796030823     1.24720316752486        0.23760893977178        0.377435874652262       -1.38702406270197       -0.0549519224713749     -0.226487263835401     0.178228225877303       0.507756869957169     -0.28792374549456       -0.631418117709045     -1.0596472454325        -0.684092786345479       1.96577500349538        -1.2326219700892      -0.208037781160366     -0.108300452035545      0.00527359678253453     -0.190320518742841      -1.17557533186321      0.647376034602038     -0.221928844458407     0.0627228487293033      0.0614576285006353       123.5               0.0\n",
       "4        2.0                -1.15823309349523      0.877736754848451      1.548717846511           0.403033933955121      -0.407193377311653      0.0959214624684256      0.592940745385545       -0.270532677192282      0.817739308235294       0.753074431976354       -0.822842877946363     0.53819555014995        1.3458515932154       -1.11966983471731       0.175121130008994      -0.451449182813529      -0.237033239362776       -0.0381947870352842     0.803486924960175     0.408542360392758      -0.00943069713232919    0.79827849458971        -0.137458079619063      0.141266983824769      -0.206009587619756    0.502292224181569      0.219422229513348       0.215153147499206        69.99               0.0\n",
       "5        2.0                -0.425965884412454     0.960523044882985      1.14110934232219         -0.168252079760302     0.42098688077219        -0.0297275516639742     0.476200948720027       0.260314333074874       -0.56867137571251       -0.371407196834471      1.34126198001957       0.359893837038039       -0.358090652573631    -0.137133700217612      0.517616806555742      0.401725895589603       -0.0581328233640131      0.0686531494425432      -0.0331937877876282   0.0849676720682049     -0.208253514656728      -0.559824796253248      -0.0263976679795373     -0.371426583174346     -0.232793816737034    0.105914779097957      0.253844224739337       0.0810802569229443       3.67                0.0\n",
       "6        4.0                1.22965763450793       0.141003507049326      0.0453707735899449       1.20261273673594       0.191880988597645       0.272708122899098       -0.00515900288250983    0.0812129398830894      0.464959994783886       -0.0992543211289237     -1.41690724314928      -0.153825826253651      -0.75106271556262     0.16737196252175        0.0501435942254188     -0.443586797916727      0.00282051247234708      -0.61198733994012       -0.0455750446637976   -0.21963255278686      -0.167716265815783      -0.270709726172363      -0.154103786809305      -0.780055415004671     0.75013693580659      -0.257236845917139     0.0345074297438413      0.00516776890624916      4.99                0.0\n",
       "7        7.0                -0.644269442348146     1.41796354547385       1.0743803763556          -0.492199018495015     0.948934094764157       0.428118462833089       1.12063135838353        -3.80786423873589       0.615374730667027       1.24937617815176        -0.619467796121913     0.291474353088705       1.75796421396042      -1.32386521970526       0.686132504394383      -0.0761269994382006     -1.2221273453247         -0.358221569869078      0.324504731321494     -0.156741852488285     1.94346533978412        -1.01545470979971       0.057503529867291       -0.649709005559993     -0.415266566234811    -0.0516342969262494    -1.20692108094258       -1.08533918832377        40.8                0.0\n",
       "8        7.0                -0.89428608220282      0.286157196276544      -0.113192212729871       -0.271526130088604     2.6695986595986         3.72181806112751        0.370145127676916       0.851084443200905       -0.392047586798604      -0.410430432848439      -0.705116586646536     -0.110452261733098      -0.286253632470583    0.0743553603016731      -0.328783050303565     -0.210077268148783      -0.499767968800267       0.118764861004217       0.57032816746536      0.0527356691149697     -0.0734251001059225     -0.268091632235551      -0.204232669947878      1.0115918018785        0.373204680146282     -0.384157307702294     0.0117473564581996      0.14240432992147         93.2                0.0\n",
       "9        9.0                -0.33826175242575      1.11959337641566       1.04436655157316         -0.222187276738296     0.49936080649727        -0.24676110061991       0.651583206489972       0.0695385865186387      -0.736727316364109      -0.366845639206541      1.01761446783262       0.836389570307029       1.00684351373408      -0.443522816876142      0.150219101422635      0.739452777052119       -0.540979921943059       0.47667726004282        0.451772964394125     0.203711454727929      -0.246913936910008      -0.633752642406113      -0.12079408408185       -0.385049925313426     -0.0697330460416923   0.0941988339514961     0.246219304619926       0.0830756493473326       3.68                0.0\n",
       "[284807 rows x 31 columns]\n"
      ]
     },
     "metadata": {},
     "output_type": "display_data"
    }
   ],
   "source": [
    "# describe in more detail about each column\n",
    "df.describe()"
   ]
  },
  {
   "cell_type": "code",
   "execution_count": 7,
   "id": "cedf1d8a",
   "metadata": {},
   "outputs": [
    {
     "data": {
      "text/plain": [
       "(284807, 31)"
      ]
     },
     "execution_count": 7,
     "metadata": {},
     "output_type": "execute_result"
    }
   ],
   "source": [
    "# number of rows, columns\n",
    "df.shape"
   ]
  },
  {
   "cell_type": "code",
   "execution_count": 8,
   "id": "e3e7aa28",
   "metadata": {},
   "outputs": [
    {
     "data": {
      "text/plain": [
       "-113.743306711146"
      ]
     },
     "execution_count": 8,
     "metadata": {},
     "output_type": "execute_result"
    }
   ],
   "source": [
    "#smallest value in the dataset\n",
    "df.min()"
   ]
  },
  {
   "cell_type": "code",
   "execution_count": 9,
   "id": "70303e56",
   "metadata": {
    "scrolled": true
   },
   "outputs": [
    {
     "data": {
      "text/plain": [
       "172792.0"
      ]
     },
     "execution_count": 9,
     "metadata": {},
     "output_type": "execute_result"
    }
   ],
   "source": [
    "#largest value in the dataset\n",
    "df.max()"
   ]
  },
  {
   "cell_type": "code",
   "execution_count": 10,
   "id": "8d435d74",
   "metadata": {},
   "outputs": [],
   "source": [
    "# print out the anomaly score"
   ]
  },
  {
   "cell_type": "code",
   "execution_count": 11,
   "id": "c68c47eb",
   "metadata": {},
   "outputs": [
    {
     "data": {
      "text/html": [
       "<table class='dataframe'>\n",
       "<thead>\n",
       "<tr><th style=\"text-align: right;\">  predict</th><th style=\"text-align: right;\">  mean_length</th></tr>\n",
       "</thead>\n",
       "<tbody>\n",
       "<tr><td style=\"text-align: right;\">0.0312036</td><td style=\"text-align: right;\">        18.58</td></tr>\n",
       "<tr><td style=\"text-align: right;\">0.02526  </td><td style=\"text-align: right;\">        18.66</td></tr>\n",
       "<tr><td style=\"text-align: right;\">0.0208024</td><td style=\"text-align: right;\">        18.72</td></tr>\n",
       "<tr><td style=\"text-align: right;\">0.0208024</td><td style=\"text-align: right;\">        18.72</td></tr>\n",
       "<tr><td style=\"text-align: right;\">0        </td><td style=\"text-align: right;\">        19   </td></tr>\n",
       "<tr><td style=\"text-align: right;\">0.0104012</td><td style=\"text-align: right;\">        18.86</td></tr>\n",
       "<tr><td style=\"text-align: right;\">0.0178306</td><td style=\"text-align: right;\">        18.76</td></tr>\n",
       "<tr><td style=\"text-align: right;\">0.0609212</td><td style=\"text-align: right;\">        18.18</td></tr>\n",
       "<tr><td style=\"text-align: right;\">0.0163447</td><td style=\"text-align: right;\">        18.78</td></tr>\n",
       "<tr><td style=\"text-align: right;\">0.0520059</td><td style=\"text-align: right;\">        18.3 </td></tr>\n",
       "</tbody>\n",
       "</table><pre style='font-size: smaller; margin-bottom: 1em;'>[71229 rows x 2 columns]</pre>"
      ],
      "text/plain": [
       "  predict    mean_length\n",
       "---------  -------------\n",
       "0.0312036          18.58\n",
       "0.02526            18.66\n",
       "0.0208024          18.72\n",
       "0.0208024          18.72\n",
       "0                  19\n",
       "0.0104012          18.86\n",
       "0.0178306          18.76\n",
       "0.0609212          18.18\n",
       "0.0163447          18.78\n",
       "0.0520059          18.3\n",
       "[71229 rows x 2 columns]\n"
      ]
     },
     "execution_count": 11,
     "metadata": {},
     "output_type": "execute_result"
    }
   ],
   "source": [
    "# 0 is normal, 1 is an anomaly\n",
    "# mean lengh = path_length / number of trees\n",
    "score"
   ]
  },
  {
   "cell_type": "code",
   "execution_count": 12,
   "id": "5e8297aa",
   "metadata": {},
   "outputs": [],
   "source": [
    "predictors = [\"V1\", \"V2\", \"V3\", \"V4\", \"V5\", \"V6\", \"V7\", \"V8\", \"V9\", \"V10\", \"V11\", \"V12\", \"V13\", \"V14\", \"V15\", \"V16\", \"V17\", \"V18\", \"V19\", \n",
    "              \"V20\", \"V21\", \"V22\", \"V23\", \"V24\", \"V25\", \"V26\", \"V27\", \"V28\"]"
   ]
  },
  {
   "cell_type": "code",
   "execution_count": 13,
   "id": "ef1d464a",
   "metadata": {},
   "outputs": [
    {
     "name": "stdout",
     "output_type": "stream",
     "text": [
      "isolationforest Model Build progress: |██████████████████████████████████████████| (done) 100%\n"
     ]
    },
    {
     "data": {
      "text/html": [
       "<pre style='margin: 1em 0 1em 0;'>Model Details\n",
       "=============\n",
       "H2OIsolationForestEstimator : Isolation Forest\n",
       "Model Key: isolation_forest.hex\n",
       "</pre>\n",
       "<div style='margin: 1em 0 1em 0;'>\n",
       "<style>\n",
       "\n",
       "#h2o-table-2.h2o-container {\n",
       "  overflow-x: auto;\n",
       "}\n",
       "#h2o-table-2 .h2o-table {\n",
       "  /* width: 100%; */\n",
       "  margin-top: 1em;\n",
       "  margin-bottom: 1em;\n",
       "}\n",
       "#h2o-table-2 .h2o-table caption {\n",
       "  white-space: nowrap;\n",
       "  caption-side: top;\n",
       "  text-align: left;\n",
       "  /* margin-left: 1em; */\n",
       "  margin: 0;\n",
       "  font-size: larger;\n",
       "}\n",
       "#h2o-table-2 .h2o-table thead {\n",
       "  white-space: nowrap; \n",
       "  position: sticky;\n",
       "  top: 0;\n",
       "  box-shadow: 0 -1px inset;\n",
       "}\n",
       "#h2o-table-2 .h2o-table tbody {\n",
       "  overflow: auto;\n",
       "}\n",
       "#h2o-table-2 .h2o-table th,\n",
       "#h2o-table-2 .h2o-table td {\n",
       "  text-align: right;\n",
       "  /* border: 1px solid; */\n",
       "}\n",
       "#h2o-table-2 .h2o-table tr:nth-child(even) {\n",
       "  /* background: #F5F5F5 */\n",
       "}\n",
       "\n",
       "</style>      \n",
       "<div id=\"h2o-table-2\" class=\"h2o-container\">\n",
       "  <table class=\"h2o-table\">\n",
       "    <caption>Model Summary: </caption>\n",
       "    <thead><tr><th></th>\n",
       "<th>number_of_trees</th>\n",
       "<th>number_of_internal_trees</th>\n",
       "<th>model_size_in_bytes</th>\n",
       "<th>min_depth</th>\n",
       "<th>max_depth</th>\n",
       "<th>mean_depth</th>\n",
       "<th>min_leaves</th>\n",
       "<th>max_leaves</th>\n",
       "<th>mean_leaves</th></tr></thead>\n",
       "    <tbody><tr><td></td>\n",
       "<td>50.0</td>\n",
       "<td>50.0</td>\n",
       "<td>34577.0</td>\n",
       "<td>8.0</td>\n",
       "<td>8.0</td>\n",
       "<td>8.0</td>\n",
       "<td>19.0</td>\n",
       "<td>97.0</td>\n",
       "<td>50.38</td></tr></tbody>\n",
       "  </table>\n",
       "</div>\n",
       "</div>\n",
       "<div style='margin: 1em 0 1em 0;'><pre style='margin: 1em 0 1em 0;'>ModelMetricsAnomaly: isolationforest\n",
       "** Reported on train data. **\n",
       "\n",
       "Anomaly Score: 6.773052791877539\n",
       "Normalized Anomaly Score: 0.05702191158858334</pre></div>\n",
       "<div style='margin: 1em 0 1em 0;'>\n",
       "<style>\n",
       "\n",
       "#h2o-table-3.h2o-container {\n",
       "  overflow-x: auto;\n",
       "}\n",
       "#h2o-table-3 .h2o-table {\n",
       "  /* width: 100%; */\n",
       "  margin-top: 1em;\n",
       "  margin-bottom: 1em;\n",
       "}\n",
       "#h2o-table-3 .h2o-table caption {\n",
       "  white-space: nowrap;\n",
       "  caption-side: top;\n",
       "  text-align: left;\n",
       "  /* margin-left: 1em; */\n",
       "  margin: 0;\n",
       "  font-size: larger;\n",
       "}\n",
       "#h2o-table-3 .h2o-table thead {\n",
       "  white-space: nowrap; \n",
       "  position: sticky;\n",
       "  top: 0;\n",
       "  box-shadow: 0 -1px inset;\n",
       "}\n",
       "#h2o-table-3 .h2o-table tbody {\n",
       "  overflow: auto;\n",
       "}\n",
       "#h2o-table-3 .h2o-table th,\n",
       "#h2o-table-3 .h2o-table td {\n",
       "  text-align: right;\n",
       "  /* border: 1px solid; */\n",
       "}\n",
       "#h2o-table-3 .h2o-table tr:nth-child(even) {\n",
       "  /* background: #F5F5F5 */\n",
       "}\n",
       "\n",
       "</style>      \n",
       "<div id=\"h2o-table-3\" class=\"h2o-container\">\n",
       "  <table class=\"h2o-table\">\n",
       "    <caption>Scoring History: </caption>\n",
       "    <thead><tr><th></th>\n",
       "<th>timestamp</th>\n",
       "<th>duration</th>\n",
       "<th>number_of_trees</th>\n",
       "<th>mean_tree_path_length</th>\n",
       "<th>mean_anomaly_score</th></tr></thead>\n",
       "    <tbody><tr><td></td>\n",
       "<td>2022-11-21 21:04:18</td>\n",
       "<td> 0.009 sec</td>\n",
       "<td>0.0</td>\n",
       "<td>nan</td>\n",
       "<td>nan</td></tr>\n",
       "<tr><td></td>\n",
       "<td>2022-11-21 21:04:18</td>\n",
       "<td> 0.187 sec</td>\n",
       "<td>1.0</td>\n",
       "<td>6.6824695</td>\n",
       "<td>0.0635061</td></tr>\n",
       "<tr><td></td>\n",
       "<td>2022-11-21 21:04:18</td>\n",
       "<td> 0.364 sec</td>\n",
       "<td>2.0</td>\n",
       "<td>6.7127406</td>\n",
       "<td>0.0478766</td></tr>\n",
       "<tr><td></td>\n",
       "<td>2022-11-21 21:04:18</td>\n",
       "<td> 0.488 sec</td>\n",
       "<td>3.0</td>\n",
       "<td>6.7406799</td>\n",
       "<td>0.0409453</td></tr>\n",
       "<tr><td></td>\n",
       "<td>2022-11-21 21:04:18</td>\n",
       "<td> 0.607 sec</td>\n",
       "<td>4.0</td>\n",
       "<td>6.7335149</td>\n",
       "<td>0.0444142</td></tr>\n",
       "<tr><td></td>\n",
       "<td>2022-11-21 21:04:19</td>\n",
       "<td> 0.753 sec</td>\n",
       "<td>5.0</td>\n",
       "<td>6.7052502</td>\n",
       "<td>0.0526339</td></tr>\n",
       "<tr><td></td>\n",
       "<td>2022-11-21 21:04:19</td>\n",
       "<td> 0.933 sec</td>\n",
       "<td>6.0</td>\n",
       "<td>6.7287784</td>\n",
       "<td>0.0508540</td></tr>\n",
       "<tr><td></td>\n",
       "<td>2022-11-21 21:04:19</td>\n",
       "<td> 1.058 sec</td>\n",
       "<td>7.0</td>\n",
       "<td>6.7089149</td>\n",
       "<td>0.0565999</td></tr>\n",
       "<tr><td></td>\n",
       "<td>2022-11-21 21:04:19</td>\n",
       "<td> 1.258 sec</td>\n",
       "<td>8.0</td>\n",
       "<td>6.7315516</td>\n",
       "<td>0.0565154</td></tr>\n",
       "<tr><td></td>\n",
       "<td>2022-11-21 21:04:19</td>\n",
       "<td> 1.422 sec</td>\n",
       "<td>9.0</td>\n",
       "<td>6.7458391</td>\n",
       "<td>0.0557914</td></tr>\n",
       "<tr><td>---</td>\n",
       "<td>---</td>\n",
       "<td>---</td>\n",
       "<td>---</td>\n",
       "<td>---</td>\n",
       "<td>---</td></tr>\n",
       "<tr><td></td>\n",
       "<td>2022-11-21 21:04:21</td>\n",
       "<td> 2.827 sec</td>\n",
       "<td>20.0</td>\n",
       "<td>6.7709460</td>\n",
       "<td>0.0587318</td></tr>\n",
       "<tr><td></td>\n",
       "<td>2022-11-21 21:04:21</td>\n",
       "<td> 3.001 sec</td>\n",
       "<td>21.0</td>\n",
       "<td>6.7627941</td>\n",
       "<td>0.0614978</td></tr>\n",
       "<tr><td></td>\n",
       "<td>2022-11-21 21:04:21</td>\n",
       "<td> 3.124 sec</td>\n",
       "<td>22.0</td>\n",
       "<td>6.7640774</td>\n",
       "<td>0.0610623</td></tr>\n",
       "<tr><td></td>\n",
       "<td>2022-11-21 21:04:21</td>\n",
       "<td> 3.243 sec</td>\n",
       "<td>23.0</td>\n",
       "<td>6.7651287</td>\n",
       "<td>0.0587178</td></tr>\n",
       "<tr><td></td>\n",
       "<td>2022-11-21 21:04:21</td>\n",
       "<td> 3.371 sec</td>\n",
       "<td>24.0</td>\n",
       "<td>6.7697040</td>\n",
       "<td>0.0558293</td></tr>\n",
       "<tr><td></td>\n",
       "<td>2022-11-21 21:04:21</td>\n",
       "<td> 3.515 sec</td>\n",
       "<td>25.0</td>\n",
       "<td>6.7668121</td>\n",
       "<td>0.0588858</td></tr>\n",
       "<tr><td></td>\n",
       "<td>2022-11-21 21:04:21</td>\n",
       "<td> 3.628 sec</td>\n",
       "<td>26.0</td>\n",
       "<td>6.7698681</td>\n",
       "<td>0.0592419</td></tr>\n",
       "<tr><td></td>\n",
       "<td>2022-11-21 21:04:22</td>\n",
       "<td> 3.762 sec</td>\n",
       "<td>27.0</td>\n",
       "<td>6.7669091</td>\n",
       "<td>0.0605140</td></tr>\n",
       "<tr><td></td>\n",
       "<td>2022-11-21 21:04:22</td>\n",
       "<td> 3.889 sec</td>\n",
       "<td>28.0</td>\n",
       "<td>6.7652993</td>\n",
       "<td>0.0619964</td></tr>\n",
       "<tr><td></td>\n",
       "<td>2022-11-21 21:04:25</td>\n",
       "<td> 6.919 sec</td>\n",
       "<td>50.0</td>\n",
       "<td>6.7730528</td>\n",
       "<td>0.0570219</td></tr></tbody>\n",
       "  </table>\n",
       "</div>\n",
       "<pre style='font-size: smaller; margin-bottom: 1em;'>[30 rows x 6 columns]</pre></div><pre style=\"font-size: smaller; margin: 1em 0 0 0;\">\n",
       "\n",
       "[tips]\n",
       "Use `model.explain()` to inspect the model.\n",
       "--\n",
       "Use `h2o.display.toggle_user_tips()` to switch on/off this section.</pre>"
      ],
      "text/plain": [
       "Model Details\n",
       "=============\n",
       "H2OIsolationForestEstimator : Isolation Forest\n",
       "Model Key: isolation_forest.hex\n",
       "\n",
       "\n",
       "Model Summary: \n",
       "    number_of_trees    number_of_internal_trees    model_size_in_bytes    min_depth    max_depth    mean_depth    min_leaves    max_leaves    mean_leaves\n",
       "--  -----------------  --------------------------  ---------------------  -----------  -----------  ------------  ------------  ------------  -------------\n",
       "    50                 50                          34577                  8            8            8             19            97            50.38\n",
       "\n",
       "ModelMetricsAnomaly: isolationforest\n",
       "** Reported on train data. **\n",
       "\n",
       "Anomaly Score: 6.773052791877539\n",
       "Normalized Anomaly Score: 0.05702191158858334\n",
       "\n",
       "Scoring History: \n",
       "     timestamp            duration    number_of_trees    mean_tree_path_length    mean_anomaly_score\n",
       "---  -------------------  ----------  -----------------  -----------------------  --------------------\n",
       "     2022-11-21 21:04:18  0.009 sec   0.0                nan                      nan\n",
       "     2022-11-21 21:04:18  0.187 sec   1.0                6.68246945165859         0.06350610966828255\n",
       "     2022-11-21 21:04:18  0.364 sec   2.0                6.712740557640788        0.04787657372653485\n",
       "     2022-11-21 21:04:18  0.488 sec   3.0                6.740679945834645        0.04094527171031399\n",
       "     2022-11-21 21:04:18  0.607 sec   4.0                6.733514859770535        0.04441419003824438\n",
       "     2022-11-21 21:04:19  0.753 sec   5.0                6.705250222080417        0.05263388891424835\n",
       "     2022-11-21 21:04:19  0.933 sec   6.0                6.728778435923275        0.05085404326438606\n",
       "     2022-11-21 21:04:19  1.058 sec   7.0                6.708914909294736        0.05659987874830021\n",
       "     2022-11-21 21:04:19  1.258 sec   8.0                6.731551625520174        0.056515447258908176\n",
       "     2022-11-21 21:04:19  1.422 sec   9.0                6.7458391134942906       0.05579141411111873\n",
       "---  ---                  ---         ---                ---                      ---\n",
       "     2022-11-21 21:04:21  2.827 sec   20.0               6.770945993241144        0.05873179660479501\n",
       "     2022-11-21 21:04:21  3.001 sec   21.0               6.762794089033998        0.06149782876916324\n",
       "     2022-11-21 21:04:21  3.124 sec   22.0               6.764077405832143        0.06106231849040132\n",
       "     2022-11-21 21:04:21  3.243 sec   23.0               6.765128718617801        0.0587178203456227\n",
       "     2022-11-21 21:04:21  3.371 sec   24.0               6.7697039768460545       0.05582933894640189\n",
       "     2022-11-21 21:04:21  3.515 sec   25.0               6.7668121435196875       0.0588858223434985\n",
       "     2022-11-21 21:04:21  3.628 sec   26.0               6.769868104563283        0.05924187407277088\n",
       "     2022-11-21 21:04:22  3.762 sec   27.0               6.766909099847353        0.060513983693678206\n",
       "     2022-11-21 21:04:22  3.889 sec   28.0               6.765299297305974        0.061996412032358096\n",
       "     2022-11-21 21:04:25  6.919 sec   50.0               6.773052791877539        0.05702191158858334\n",
       "[30 rows x 6 columns]\n",
       "\n",
       "\n",
       "[tips]\n",
       "Use `model.explain()` to inspect the model.\n",
       "--\n",
       "Use `h2o.display.toggle_user_tips()` to switch on/off this section."
      ]
     },
     "execution_count": 13,
     "metadata": {},
     "output_type": "execute_result"
    }
   ],
   "source": [
    "from h2o.estimators import H2OIsolationForestEstimator\n",
    "\n",
    "isolation_model = H2OIsolationForestEstimator(model_id = \"isolation_forest.hex\", seed = 1234)\n",
    "isolation_model.train(training_frame = df, x = predictors)"
   ]
  },
  {
   "cell_type": "code",
   "execution_count": 14,
   "id": "64e62099",
   "metadata": {},
   "outputs": [
    {
     "name": "stdout",
     "output_type": "stream",
     "text": [
      "isolationforest prediction progress: |███████████████████████████████████████████| (done) 100%\n"
     ]
    },
    {
     "data": {
      "text/html": [
       "<table class='dataframe'>\n",
       "<thead>\n",
       "<tr><th style=\"text-align: right;\">   predict</th><th style=\"text-align: right;\">  mean_length</th></tr>\n",
       "</thead>\n",
       "<tbody>\n",
       "<tr><td style=\"text-align: right;\">0.040201  </td><td style=\"text-align: right;\">         6.84</td></tr>\n",
       "<tr><td style=\"text-align: right;\">0         </td><td style=\"text-align: right;\">         7   </td></tr>\n",
       "<tr><td style=\"text-align: right;\">0.145729  </td><td style=\"text-align: right;\">         6.42</td></tr>\n",
       "<tr><td style=\"text-align: right;\">0.0552764 </td><td style=\"text-align: right;\">         6.78</td></tr>\n",
       "<tr><td style=\"text-align: right;\">0.0150754 </td><td style=\"text-align: right;\">         6.94</td></tr>\n",
       "<tr><td style=\"text-align: right;\">0.0150754 </td><td style=\"text-align: right;\">         6.94</td></tr>\n",
       "<tr><td style=\"text-align: right;\">0         </td><td style=\"text-align: right;\">         7   </td></tr>\n",
       "<tr><td style=\"text-align: right;\">0.201005  </td><td style=\"text-align: right;\">         6.2 </td></tr>\n",
       "<tr><td style=\"text-align: right;\">0.0351759 </td><td style=\"text-align: right;\">         6.86</td></tr>\n",
       "<tr><td style=\"text-align: right;\">0.00502513</td><td style=\"text-align: right;\">         6.98</td></tr>\n",
       "</tbody>\n",
       "</table><pre style='font-size: smaller; margin-bottom: 1em;'>[284807 rows x 2 columns]</pre>"
      ],
      "text/plain": [
       "   predict    mean_length\n",
       "----------  -------------\n",
       "0.040201             6.84\n",
       "0                    7\n",
       "0.145729             6.42\n",
       "0.0552764            6.78\n",
       "0.0150754            6.94\n",
       "0.0150754            6.94\n",
       "0                    7\n",
       "0.201005             6.2\n",
       "0.0351759            6.86\n",
       "0.00502513           6.98\n",
       "[284807 rows x 2 columns]\n"
      ]
     },
     "execution_count": 14,
     "metadata": {},
     "output_type": "execute_result"
    }
   ],
   "source": [
    "predictions = isolation_model.predict(df)\n",
    "predictions"
   ]
  }
 ],
 "metadata": {
  "kernelspec": {
   "display_name": "Python 3 (ipykernel)",
   "language": "python",
   "name": "python3"
  },
  "language_info": {
   "codemirror_mode": {
    "name": "ipython",
    "version": 3
   },
   "file_extension": ".py",
   "mimetype": "text/x-python",
   "name": "python",
   "nbconvert_exporter": "python",
   "pygments_lexer": "ipython3",
   "version": "3.9.13"
  }
 },
 "nbformat": 4,
 "nbformat_minor": 5
}
